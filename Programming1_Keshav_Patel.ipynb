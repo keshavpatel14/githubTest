{
 "cells": [
  {
   "cell_type": "markdown",
   "metadata": {},
   "source": [
    "# Programming Assignment: Numerical Optimization for Logistic Regression.\n",
    "\n",
    "### Name: Keshav Patel\n"
   ]
  },
  {
   "cell_type": "code",
   "execution_count": 73,
   "metadata": {},
   "outputs": [
    {
     "name": "stdout",
     "output_type": "stream",
     "text": [
      "Requirement already satisfied: Pyppeteer in /Users/keshavpatel/anaconda3/lib/python3.11/site-packages (1.0.2)\n",
      "Requirement already satisfied: appdirs<2.0.0,>=1.4.3 in /Users/keshavpatel/anaconda3/lib/python3.11/site-packages (from Pyppeteer) (1.4.4)\n",
      "Requirement already satisfied: certifi>=2021 in /Users/keshavpatel/anaconda3/lib/python3.11/site-packages (from Pyppeteer) (2023.5.7)\n",
      "Requirement already satisfied: importlib-metadata>=1.4 in /Users/keshavpatel/anaconda3/lib/python3.11/site-packages (from Pyppeteer) (6.0.0)\n",
      "Requirement already satisfied: pyee<9.0.0,>=8.1.0 in /Users/keshavpatel/anaconda3/lib/python3.11/site-packages (from Pyppeteer) (8.2.2)\n",
      "Requirement already satisfied: tqdm<5.0.0,>=4.42.1 in /Users/keshavpatel/anaconda3/lib/python3.11/site-packages (from Pyppeteer) (4.65.0)\n",
      "Requirement already satisfied: urllib3<2.0.0,>=1.25.8 in /Users/keshavpatel/anaconda3/lib/python3.11/site-packages (from Pyppeteer) (1.26.16)\n",
      "Requirement already satisfied: websockets<11.0,>=10.0 in /Users/keshavpatel/anaconda3/lib/python3.11/site-packages (from Pyppeteer) (10.4)\n",
      "Requirement already satisfied: zipp>=0.5 in /Users/keshavpatel/anaconda3/lib/python3.11/site-packages (from importlib-metadata>=1.4->Pyppeteer) (3.11.0)\n",
      "chromium is already installed.\n",
      "zsh:1: no matches found: nbconvert[webpdf]\n"
     ]
    }
   ],
   "source": [
    "import plotly.io as pio\n",
    "pio.renderers.default='notebook'\n",
    "!pip install Pyppeteer\n",
    "!pyppeteer-install\n"
   ]
  },
  {
   "cell_type": "code",
   "execution_count": 75,
   "metadata": {},
   "outputs": [
    {
     "name": "stdout",
     "output_type": "stream",
     "text": [
      "zsh:1: no matches found: nbconvert[webpdf]\n",
      "Note: you may need to restart the kernel to use updated packages.\n"
     ]
    }
   ],
   "source": []
  },
  {
   "cell_type": "markdown",
   "metadata": {},
   "source": [
    "## 0. You will do the following:\n",
    "\n",
    "1. Read the lecture note: [click here](https://github.com/wangshusen/DeepLearning/blob/master/LectureNotes/Logistic/paper/logistic.pdf)\n",
    "\n",
    "2. Read, complete, and run my code.\n",
    "\n",
    "3. **Implement mini-batch SGD** and evaluate the performance.\n",
    "\n",
    "4. Convert the .IPYNB file to .HTML file.\n",
    "\n",
    "    * The HTML file must contain **the code** and **the output after execution**.\n",
    "    \n",
    "    * Missing **the output after execution** will not be graded.\n",
    "    \n",
    "    \n",
    "5. Upload this .HTML file to your Google Drive, Dropbox, or your Github repo.  (If you submit the file to Google Drive or Dropbox, you must make the file \"open-access\". The delay caused by \"deny of access\" may result in late penalty.)\n",
    "\n",
    "6. On Canvas, submit the Google Drive/Dropbox/Github link to the HTML file.\n",
    "\n",
    "\n",
    "## Grading criteria:\n",
    "\n",
    "1. When computing the ```gradient``` and ```objective function value``` using a batch of samples, use **matrix-vector multiplication** rather than a FOR LOOP of **vector-vector multiplications**.\n",
    "\n",
    "2. Plot ```objective function value``` against ```epochs```. In the plot, compare GD, SGD, and MB-SGD (with $b=8$ and $b=64$). The plot must look reasonable."
   ]
  },
  {
   "cell_type": "markdown",
   "metadata": {},
   "source": [
    "# 1. Data processing\n",
    "\n",
    "- Download the Diabete dataset from https://www.csie.ntu.edu.tw/~cjlin/libsvmtools/datasets/binary/diabetes\n",
    "- Load the data using sklearn.\n",
    "- Preprocess the data."
   ]
  },
  {
   "cell_type": "markdown",
   "metadata": {},
   "source": [
    "## 1.1. Load the data"
   ]
  },
  {
   "cell_type": "code",
   "execution_count": 59,
   "metadata": {},
   "outputs": [
    {
     "name": "stdout",
     "output_type": "stream",
     "text": [
      "Shape of x_sparse: (768, 8)\n",
      "Shape of x: (768, 8)\n",
      "Shape of y: (768,)\n"
     ]
    }
   ],
   "source": [
    "from sklearn import datasets\n",
    "import numpy as np\n",
    "\n",
    "x_sparse, y = datasets.load_svmlight_file('diabetes.txt')\n",
    "x = x_sparse.todense()\n",
    "print('Shape of x_sparse: ' + str(x_sparse.shape))\n",
    "print('Shape of x: ' + str(x.shape))\n",
    "print('Shape of y: ' + str(y.shape))"
   ]
  },
  {
   "cell_type": "markdown",
   "metadata": {},
   "source": [
    "## 1.2. Partition to training and test sets"
   ]
  },
  {
   "cell_type": "code",
   "execution_count": 60,
   "metadata": {},
   "outputs": [
    {
     "name": "stdout",
     "output_type": "stream",
     "text": [
      "Shape of x_train: (640, 8)\n",
      "Shape of x_test: (128, 8)\n",
      "Shape of y_train: (640, 1)\n",
      "Shape of y_test: (128, 1)\n"
     ]
    }
   ],
   "source": [
    "# partition the data to training and test sets\n",
    "n = x.shape[0] #gives size of first axis, in this rows so 768 rows\n",
    "n_train = 640 #how many instances will be in training and test sets\n",
    "n_test = n - n_train\n",
    "\n",
    "rand_indices = np.random.permutation(n) #randomize training and test set examples\n",
    "train_indices = rand_indices[0:n_train]\n",
    "test_indices = rand_indices[n_train:n]\n",
    "\n",
    "x_train = x[train_indices, :]\n",
    "x_test = x[test_indices, :]\n",
    "y_train = y[train_indices].reshape(n_train, 1) # change y into a 2d matrix\n",
    "y_test = y[test_indices].reshape(n_test, 1)\n",
    "\n",
    "print('Shape of x_train: ' + str(x_train.shape))\n",
    "print('Shape of x_test: ' + str(x_test.shape))\n",
    "print('Shape of y_train: ' + str(y_train.shape))\n",
    "print('Shape of y_test: ' + str(y_test.shape))"
   ]
  },
  {
   "cell_type": "markdown",
   "metadata": {},
   "source": [
    "## 1.3. Feature scaling"
   ]
  },
  {
   "cell_type": "markdown",
   "metadata": {},
   "source": [
    "Use the standardization to trainsform both training and test features"
   ]
  },
  {
   "cell_type": "code",
   "execution_count": 61,
   "metadata": {},
   "outputs": [
    {
     "name": "stdout",
     "output_type": "stream",
     "text": [
      "test mean = \n",
      "[[-0.00046457 -0.12643798  0.03537123 -0.05690668  0.07618429 -0.07566123\n",
      "   0.03193279 -0.01909037]]\n",
      "test std = \n",
      "[[1.00720397 0.86880864 0.86989171 0.94199148 1.09332529 0.93392557\n",
      "  1.08818037 1.02439979]]\n"
     ]
    }
   ],
   "source": [
    "# Standardization makes mean 0 and unit variance\n",
    "import numpy\n",
    "\n",
    "# calculate mu and sig using the training set\n",
    "d = x_train.shape[1] #size of 2nd axis, in this case how many columns. will standarize features on a column basis\n",
    "#when you set axis =0 in calculations below, it neans you want to calculate the mean and standard deviation\n",
    "#for each column across all the rows, treats each column as a seperate dataset\n",
    "#then reshapes mu and sig into a \n",
    "mu = numpy.mean(x_train, axis=0).reshape(1, d)\n",
    "sig = numpy.std(x_train, axis=0).reshape(1, d)\n",
    "\n",
    "# transform the training features\n",
    "x_train = (x_train - mu) / (sig + 1E-6)\n",
    "\n",
    "# transform the test features\n",
    "x_test = (x_test - mu) / (sig + 1E-6)\n",
    "\n",
    "print('test mean = ')\n",
    "print(numpy.mean(x_test, axis=0))\n",
    "print('test std = ')\n",
    "print(numpy.std(x_test, axis=0))"
   ]
  },
  {
   "cell_type": "markdown",
   "metadata": {},
   "source": [
    "## 1.4. Add a dimension of all ones"
   ]
  },
  {
   "cell_type": "code",
   "execution_count": 62,
   "metadata": {},
   "outputs": [
    {
     "name": "stdout",
     "output_type": "stream",
     "text": [
      "Shape of x_train: (640, 9)\n",
      "Shape of x_test: (128, 9)\n"
     ]
    }
   ],
   "source": [
    "#add dimension of 1 for bias\n",
    "n_train, d = x_train.shape\n",
    "#n_train stores number of rows in x_train\n",
    "#d will store number of columns in x_train\n",
    "\n",
    "x_train = numpy.concatenate((x_train, numpy.ones((n_train, 1))), axis=1)\n",
    "#adds a column of 1s because axis = 1\n",
    "\n",
    "n_test, d = x_test.shape\n",
    "x_test = numpy.concatenate((x_test, numpy.ones((n_test, 1))), axis=1)\n",
    "\n",
    "print('Shape of x_train: ' + str(x_train.shape))\n",
    "print('Shape of x_test: ' + str(x_test.shape))"
   ]
  },
  {
   "cell_type": "markdown",
   "metadata": {},
   "source": [
    "# 2. Logistic regression model\n",
    "\n",
    "The objective function is $Q (w; X, y) = \\frac{1}{n} \\sum_{i=1}^n \\log \\Big( 1 + \\exp \\big( - y_i x_i^T w \\big) \\Big) + \\frac{\\lambda}{2} \\| w \\|_2^2 $."
   ]
  },
  {
   "cell_type": "code",
   "execution_count": 63,
   "metadata": {},
   "outputs": [],
   "source": [
    "# Calculate the objective function value\n",
    "# Inputs:\n",
    "#     w: d-by-1 matrix: weights of each feature\n",
    "#     x: n-by-d matrix: feature matrix\n",
    "#     y: n-by-1 matrix: label for each of the instances (classification)\n",
    "#     lam: scalar, the regularization parameter\n",
    "# Return:\n",
    "#     objective function value (scalar)\n",
    "def objective(w, x, y, lam):\n",
    "    n, d = x.shape #n tells you how many data points, d tells you how many features\n",
    "    yx = numpy.multiply(y, x) # n-by-d matrix element wise multiplication, between labels and feature matrix\n",
    "    yxw = numpy.dot(yx, w) # n-by-1 matrix dotproduct between yx and w. inner product of data points and weights\n",
    "    #yxw calculated linear combination of features and weights, used to model log-odds (probablity of positive class)\n",
    "    vec1 = numpy.exp(-yxw) # n-by-1 matrix exponential of yxw\n",
    "    #vec1 transforms linear combination into a probability, probability of positive class\n",
    "    vec2 = numpy.log(1 + vec1) # n-by-1 matrix natural log of vec1\n",
    "    #vec2 computes log loss for each data point.used to measure error \n",
    "    loss = numpy.mean(vec2) # scalar \n",
    "    #logisitc loss is the averae of log loss across all datapoints\n",
    "    reg = lam / 2 * numpy.sum(w * w) # scalar\n",
    "    #reg prevents overfitting by penalizing large weights. \n",
    "    return loss + reg"
   ]
  },
  {
   "cell_type": "code",
   "execution_count": 64,
   "metadata": {},
   "outputs": [
    {
     "name": "stdout",
     "output_type": "stream",
     "text": [
      "Initial objective function value = 0.6931471805599453\n"
     ]
    }
   ],
   "source": [
    "# initialize w\n",
    "d = x_train.shape[1]\n",
    "w = numpy.zeros((d, 1))\n",
    "\n",
    "# evaluate the objective function value at w\n",
    "lam = 1E-6\n",
    "objval0 = objective(w, x_train, y_train, lam)\n",
    "print('Initial objective function value = ' + str(objval0))"
   ]
  },
  {
   "cell_type": "markdown",
   "metadata": {},
   "source": [
    "# 3. Numerical optimization"
   ]
  },
  {
   "cell_type": "markdown",
   "metadata": {},
   "source": [
    "## 3.1. Gradient descent\n"
   ]
  },
  {
   "cell_type": "markdown",
   "metadata": {},
   "source": [
    "The gradient at $w$ is $g = - \\frac{1}{n} \\sum_{i=1}^n \\frac{y_i x_i }{1 + \\exp ( y_i x_i^T w)} + \\lambda w$"
   ]
  },
  {
   "cell_type": "code",
   "execution_count": 65,
   "metadata": {},
   "outputs": [],
   "source": [
    "# Calculate the gradient\n",
    "#gradient returns full gradient, represnts direction.magnitude of steepest increase in logistic regression objective function\n",
    "#weights updated in opposite direction of gradient to minimize objective function\n",
    "# Inputs:\n",
    "#     w: d-by-1 matrix\n",
    "#     x: n-by-d matrix\n",
    "#     y: n-by-1 matrix\n",
    "#     lam: scalar, the regularization parameter\n",
    "# Return:\n",
    "#     g: g: d-by-1 matrix, full gradient\n",
    "def gradient(w, x, y, lam):\n",
    "    n, d = x.shape\n",
    "    yx = numpy.multiply(y, x) # n-by-d matrix\n",
    "    yxw = numpy.dot(yx, w) # n-by-1 matrix\n",
    "    vec1 = numpy.exp(yxw) # n-by-1 matrix\n",
    "    vec2 = numpy.divide(yx, 1+vec1) # n-by-d matrix\n",
    "    vec3 = -numpy.mean(vec2, axis=0).reshape(d, 1) # d-by-1 matrix\n",
    "    g = vec3 + lam * w\n",
    "    return g"
   ]
  },
  {
   "cell_type": "code",
   "execution_count": 66,
   "metadata": {},
   "outputs": [],
   "source": [
    "# Gradient descent for solving logistic regression\n",
    "# Inputs:\n",
    "#     x: n-by-d matrix\n",
    "#     y: n-by-1 matrix\n",
    "#     lam: scalar, the regularization parameter\n",
    "#     stepsize: scalar\n",
    "#     max_iter: integer, the maximal iterations\n",
    "#     w: d-by-1 matrix, initialization of w\n",
    "# Return:\n",
    "#     w: d-by-1 matrix, the solution\n",
    "#     objvals: a record of each iteration's objective value\n",
    "def grad_descent(x, y, lam, stepsize, max_iter=100, w=None):\n",
    "    n, d = x.shape\n",
    "    objvals = numpy.zeros(max_iter) # store the objective values\n",
    "    if w is None:\n",
    "        w = numpy.zeros((d, 1)) # zero initialization\n",
    "    \n",
    "    for t in range(max_iter):\n",
    "        objval = objective(w, x, y, lam)\n",
    "        objvals[t] = objval\n",
    "        print('Objective value at t=' + str(t) + ' is ' + str(objval))\n",
    "        g = gradient(w, x, y, lam)\n",
    "        w -= stepsize * g\n",
    "    \n",
    "    return w, objvals"
   ]
  },
  {
   "cell_type": "markdown",
   "metadata": {},
   "source": [
    "Run gradient descent."
   ]
  },
  {
   "cell_type": "code",
   "execution_count": 28,
   "metadata": {},
   "outputs": [
    {
     "name": "stdout",
     "output_type": "stream",
     "text": [
      "Objective value at t=0 is 0.6931471805599453\n",
      "Objective value at t=1 is 0.5940065187414814\n",
      "Objective value at t=2 is 0.5538176673505883\n",
      "Objective value at t=3 is 0.5323632966670608\n",
      "Objective value at t=4 is 0.51909084308512\n",
      "Objective value at t=5 is 0.5101906028345309\n",
      "Objective value at t=6 is 0.5039212375395691\n",
      "Objective value at t=7 is 0.4993563387961882\n",
      "Objective value at t=8 is 0.4959513118969366\n",
      "Objective value at t=9 is 0.493363599398337\n",
      "Objective value at t=10 is 0.4913671862555881\n",
      "Objective value at t=11 is 0.48980758382356276\n",
      "Objective value at t=12 is 0.48857625492528967\n",
      "Objective value at t=13 is 0.48759523207392014\n",
      "Objective value at t=14 is 0.48680745605561365\n",
      "Objective value at t=15 is 0.48617049802858464\n",
      "Objective value at t=16 is 0.4856523667954065\n",
      "Objective value at t=17 is 0.4852286438774144\n",
      "Objective value at t=18 is 0.48488048709624676\n",
      "Objective value at t=19 is 0.4845932152294612\n",
      "Objective value at t=20 is 0.48435528910814063\n",
      "Objective value at t=21 is 0.4841575679003135\n",
      "Objective value at t=22 is 0.4839927593948444\n",
      "Objective value at t=23 is 0.483855008990375\n",
      "Objective value at t=24 is 0.4837395891411894\n",
      "Objective value at t=25 is 0.48364266242777904\n",
      "Objective value at t=26 is 0.48356109918240536\n",
      "Objective value at t=27 is 0.4834923359527154\n",
      "Objective value at t=28 is 0.4834342648256092\n",
      "Objective value at t=29 is 0.48338514627720713\n",
      "Objective value at t=30 is 0.4833435401049996\n",
      "Objective value at t=31 is 0.4833082503641803\n",
      "Objective value at t=32 is 0.4832782812270228\n",
      "Objective value at t=33 is 0.4832528014185203\n",
      "Objective value at t=34 is 0.4832311154272773\n",
      "Objective value at t=35 is 0.48321264009963905\n",
      "Objective value at t=36 is 0.4831968855339646\n",
      "Objective value at t=37 is 0.4831834394270154\n",
      "Objective value at t=38 is 0.48317195420456704\n",
      "Objective value at t=39 is 0.4831621364073007\n",
      "Objective value at t=40 is 0.4831537379109015\n",
      "Objective value at t=41 is 0.4831465486435168\n",
      "Objective value at t=42 is 0.48314039052987623\n",
      "Objective value at t=43 is 0.4831351124435924\n",
      "Objective value at t=44 is 0.48313058599060044\n",
      "Objective value at t=45 is 0.48312670197972146\n",
      "Objective value at t=46 is 0.4831233674627976\n",
      "Objective value at t=47 is 0.4831205032481121\n",
      "Objective value at t=48 is 0.4831180418079955\n",
      "Objective value at t=49 is 0.4831159255154363\n",
      "Objective value at t=50 is 0.4831141051558474\n",
      "Objective value at t=51 is 0.48311253866937587\n",
      "Objective value at t=52 is 0.483111190086721\n",
      "Objective value at t=53 is 0.4831100286276319\n",
      "Objective value at t=54 is 0.48310902793638266\n",
      "Objective value at t=55 is 0.48310816543274343\n",
      "Objective value at t=56 is 0.4831074217604659\n",
      "Objective value at t=57 is 0.4831067803182078\n",
      "Objective value at t=58 is 0.4831062268602263\n",
      "Objective value at t=59 is 0.48310574915619087\n",
      "Objective value at t=60 is 0.4831053367011376\n",
      "Objective value at t=61 is 0.4831049804679953\n",
      "Objective value at t=62 is 0.4831046726962876\n",
      "Objective value at t=63 is 0.4831044067116056\n",
      "Objective value at t=64 is 0.4831041767712733\n",
      "Objective value at t=65 is 0.48310397793232407\n",
      "Objective value at t=66 is 0.483103805938502\n",
      "Objective value at t=67 is 0.4831036571234907\n",
      "Objective value at t=68 is 0.4831035283279972\n",
      "Objective value at t=69 is 0.48310341682867036\n",
      "Objective value at t=70 is 0.48310332027713637\n",
      "Objective value at t=71 is 0.4831032366476851\n",
      "Objective value at t=72 is 0.48310316419236204\n",
      "Objective value at t=73 is 0.4831031014023969\n",
      "Objective value at t=74 is 0.48310304697506484\n",
      "Objective value at t=75 is 0.48310299978520094\n",
      "Objective value at t=76 is 0.48310295886070487\n",
      "Objective value at t=77 is 0.4831029233614696\n",
      "Objective value at t=78 is 0.483102892561248\n",
      "Objective value at t=79 is 0.48310286583204287\n",
      "Objective value at t=80 is 0.48310284263066294\n",
      "Objective value at t=81 is 0.48310282248714126\n",
      "Objective value at t=82 is 0.4831028049947552\n",
      "Objective value at t=83 is 0.4831027898014216\n",
      "Objective value at t=84 is 0.48310277660227713\n",
      "Objective value at t=85 is 0.4831027651332786\n",
      "Objective value at t=86 is 0.48310275516567847\n",
      "Objective value at t=87 is 0.48310274650125906\n",
      "Objective value at t=88 is 0.48310273896821543\n",
      "Objective value at t=89 is 0.4831027324176003\n",
      "Objective value at t=90 is 0.48310272672025306\n",
      "Objective value at t=91 is 0.4831027217641448\n",
      "Objective value at t=92 is 0.4831027174520849\n",
      "Objective value at t=93 is 0.4831027136997357\n",
      "Objective value at t=94 is 0.4831027104338975\n",
      "Objective value at t=95 is 0.48310270759102414\n",
      "Objective value at t=96 is 0.4831027051159378\n",
      "Objective value at t=97 is 0.4831027029607167\n",
      "Objective value at t=98 is 0.4831027010837335\n",
      "Objective value at t=99 is 0.48310269944882006\n"
     ]
    }
   ],
   "source": [
    "lam = 1E-6\n",
    "stepsize = 1.0\n",
    "w, objvals_gd = grad_descent(x_train, y_train, lam, stepsize)"
   ]
  },
  {
   "cell_type": "markdown",
   "metadata": {},
   "source": [
    "## 3.2. Stochastic gradient descent (SGD)\n",
    "\n",
    "Define $Q_i (w) = \\log \\Big( 1 + \\exp \\big( - y_i x_i^T w \\big) \\Big) + \\frac{\\lambda}{2} \\| w \\|_2^2 $.\n",
    "\n",
    "The stochastic gradient at $w$ is $g_i = \\frac{\\partial Q_i }{ \\partial w} = -\\frac{y_i x_i }{1 + \\exp ( y_i x_i^T w)} + \\lambda w$."
   ]
  },
  {
   "cell_type": "code",
   "execution_count": 29,
   "metadata": {},
   "outputs": [],
   "source": [
    "# Calculate the objective Q_i and the gradient of Q_i\n",
    "# Inputs:\n",
    "#     w: d-by-1 matrix\n",
    "#     xi: 1-by-d matrix\n",
    "#     yi: scalar\n",
    "#     lam: scalar, the regularization parameter\n",
    "# Return:\n",
    "#     obj: scalar, the objective Q_i\n",
    "#     g: d-by-1 matrix, gradient of Q_i\n",
    "def stochastic_objective_gradient(w, xi, yi, lam):\n",
    "    yx = yi * xi # 1-by-d matrix\n",
    "    yxw = float(numpy.dot(yx, w)) # scalar\n",
    "    \n",
    "    # calculate objective function Q_i\n",
    "    loss = numpy.log(1 + numpy.exp(-yxw)) # scalar\n",
    "    reg = lam / 2 * numpy.sum(w * w) # scalar\n",
    "    obj = loss + reg\n",
    "    \n",
    "    # calculate stochastic gradient\n",
    "    g_loss = -yx.T / (1 + numpy.exp(yxw)) # d-by-1 matrix\n",
    "    g = g_loss + lam * w # d-by-1 matrix\n",
    "    \n",
    "    return obj, g"
   ]
  },
  {
   "cell_type": "code",
   "execution_count": 30,
   "metadata": {},
   "outputs": [],
   "source": [
    "# SGD for solving logistic regression\n",
    "# Inputs:\n",
    "#     x: n-by-d matrix\n",
    "#     y: n-by-1 matrix\n",
    "#     lam: scalar, the regularization parameter\n",
    "#     stepsize: scalar\n",
    "#     max_epoch: integer, the maximal epochs\n",
    "#     w: d-by-1 matrix, initialization of w\n",
    "# Return:\n",
    "#     w: the solution\n",
    "#     objvals: record of each iteration's objective value\n",
    "def sgd(x, y, lam, stepsize, max_epoch=100, w=None):\n",
    "    n, d = x.shape\n",
    "    objvals = numpy.zeros(max_epoch) # store the objective values\n",
    "    if w is None:\n",
    "        w = numpy.zeros((d, 1)) # zero initialization\n",
    "    \n",
    "    for t in range(max_epoch):\n",
    "        # randomly shuffle the samples\n",
    "        rand_indices = numpy.random.permutation(n)\n",
    "        x_rand = x[rand_indices, :]\n",
    "        y_rand = y[rand_indices, :]\n",
    "        \n",
    "        objval = 0 # accumulate the objective values\n",
    "        for i in range(n):\n",
    "            xi = x_rand[i, :] # 1-by-d matrix\n",
    "            yi = float(y_rand[i, :]) # scalar\n",
    "            obj, g = stochastic_objective_gradient(w, xi, yi, lam)\n",
    "            objval += obj\n",
    "            w -= stepsize * g\n",
    "        \n",
    "        stepsize *= 0.9 # decrease step size\n",
    "        objval /= n\n",
    "        objvals[t] = objval\n",
    "        print('Objective value at epoch t=' + str(t) + ' is ' + str(objval))\n",
    "    \n",
    "    return w, objvals"
   ]
  },
  {
   "cell_type": "markdown",
   "metadata": {},
   "source": [
    "Run SGD."
   ]
  },
  {
   "cell_type": "code",
   "execution_count": 31,
   "metadata": {},
   "outputs": [
    {
     "name": "stdout",
     "output_type": "stream",
     "text": [
      "Objective value at epoch t=0 is 0.5425591594122026\n",
      "Objective value at epoch t=1 is 0.5273171926645535\n",
      "Objective value at epoch t=2 is 0.5266654383676376\n",
      "Objective value at epoch t=3 is 0.5189631032875062\n",
      "Objective value at epoch t=4 is 0.515934326537181\n",
      "Objective value at epoch t=5 is 0.5183556066249474\n",
      "Objective value at epoch t=6 is 0.5087478722162198\n",
      "Objective value at epoch t=7 is 0.5097282262327766\n",
      "Objective value at epoch t=8 is 0.5090128443316968\n",
      "Objective value at epoch t=9 is 0.5055395725305007\n",
      "Objective value at epoch t=10 is 0.5051811806913032\n",
      "Objective value at epoch t=11 is 0.5044432255269621\n",
      "Objective value at epoch t=12 is 0.4988011035198472\n",
      "Objective value at epoch t=13 is 0.49791920469163076\n",
      "Objective value at epoch t=14 is 0.49934819388379736\n",
      "Objective value at epoch t=15 is 0.4966514099483404\n",
      "Objective value at epoch t=16 is 0.4964883156200857\n",
      "Objective value at epoch t=17 is 0.4916362067746968\n",
      "Objective value at epoch t=18 is 0.49356122299765365\n",
      "Objective value at epoch t=19 is 0.49072737448009063\n",
      "Objective value at epoch t=20 is 0.49202154449659324\n",
      "Objective value at epoch t=21 is 0.4908208931992365\n",
      "Objective value at epoch t=22 is 0.4901133055080281\n",
      "Objective value at epoch t=23 is 0.48913897340023726\n",
      "Objective value at epoch t=24 is 0.48893007015076717\n",
      "Objective value at epoch t=25 is 0.48850027910400556\n",
      "Objective value at epoch t=26 is 0.4877918980335857\n",
      "Objective value at epoch t=27 is 0.4870939900874182\n",
      "Objective value at epoch t=28 is 0.4871988670803307\n",
      "Objective value at epoch t=29 is 0.4863743350867796\n",
      "Objective value at epoch t=30 is 0.48634660091418747\n",
      "Objective value at epoch t=31 is 0.4859994497630581\n",
      "Objective value at epoch t=32 is 0.4856862752281482\n",
      "Objective value at epoch t=33 is 0.4854647727739619\n",
      "Objective value at epoch t=34 is 0.48525440938130204\n",
      "Objective value at epoch t=35 is 0.48500407388835287\n",
      "Objective value at epoch t=36 is 0.4848458530480052\n",
      "Objective value at epoch t=37 is 0.48449830943185174\n",
      "Objective value at epoch t=38 is 0.48453264691580494\n",
      "Objective value at epoch t=39 is 0.4843329869734738\n",
      "Objective value at epoch t=40 is 0.484248054028396\n",
      "Objective value at epoch t=41 is 0.484137146174849\n",
      "Objective value at epoch t=42 is 0.48403366748658677\n",
      "Objective value at epoch t=43 is 0.48394805808012353\n",
      "Objective value at epoch t=44 is 0.48385139431792024\n",
      "Objective value at epoch t=45 is 0.4837848508776877\n",
      "Objective value at epoch t=46 is 0.48371439924525694\n",
      "Objective value at epoch t=47 is 0.4836523292068125\n",
      "Objective value at epoch t=48 is 0.4836032438830175\n",
      "Objective value at epoch t=49 is 0.4835529557270172\n",
      "Objective value at epoch t=50 is 0.4835088116939539\n",
      "Objective value at epoch t=51 is 0.4834668372567344\n",
      "Objective value at epoch t=52 is 0.4834307213007324\n",
      "Objective value at epoch t=53 is 0.48339554181330796\n",
      "Objective value at epoch t=54 is 0.483368306980552\n",
      "Objective value at epoch t=55 is 0.4833418411284172\n",
      "Objective value at epoch t=56 is 0.48331806882634754\n",
      "Objective value at epoch t=57 is 0.4832976829752802\n",
      "Objective value at epoch t=58 is 0.4832767720160526\n",
      "Objective value at epoch t=59 is 0.4832605773600445\n",
      "Objective value at epoch t=60 is 0.4832448332660915\n",
      "Objective value at epoch t=61 is 0.48323042783612813\n",
      "Objective value at epoch t=62 is 0.4832180063437382\n",
      "Objective value at epoch t=63 is 0.48320643954587084\n",
      "Objective value at epoch t=64 is 0.48319609378202666\n",
      "Objective value at epoch t=65 is 0.48318679516293994\n",
      "Objective value at epoch t=66 is 0.4831784525544058\n",
      "Objective value at epoch t=67 is 0.48317086398403697\n",
      "Objective value at epoch t=68 is 0.48316407621970925\n",
      "Objective value at epoch t=69 is 0.48315796569291286\n",
      "Objective value at epoch t=70 is 0.4831524319365422\n",
      "Objective value at epoch t=71 is 0.4831474781500142\n",
      "Objective value at epoch t=72 is 0.4831430249810295\n",
      "Objective value at epoch t=73 is 0.48313899326779247\n",
      "Objective value at epoch t=74 is 0.48313536487058384\n",
      "Objective value at epoch t=75 is 0.48313213747029177\n",
      "Objective value at epoch t=76 is 0.48312919685530603\n",
      "Objective value at epoch t=77 is 0.48312656743994803\n",
      "Objective value at epoch t=78 is 0.4831241906265441\n",
      "Objective value at epoch t=79 is 0.48312204978584966\n",
      "Objective value at epoch t=80 is 0.48312012917050523\n",
      "Objective value at epoch t=81 is 0.48311839825219655\n",
      "Objective value at epoch t=82 is 0.48311683966178104\n",
      "Objective value at epoch t=83 is 0.48311543882716224\n",
      "Objective value at epoch t=84 is 0.4831141749143996\n",
      "Objective value at epoch t=85 is 0.4831130397505933\n",
      "Objective value at epoch t=86 is 0.4831120187574413\n",
      "Objective value at epoch t=87 is 0.48311109745168157\n",
      "Objective value at epoch t=88 is 0.48311026988656697\n",
      "Objective value at epoch t=89 is 0.48310952406382957\n",
      "Objective value at epoch t=90 is 0.48310885230170186\n",
      "Objective value at epoch t=91 is 0.4831082493076672\n",
      "Objective value at epoch t=92 is 0.48310770594118874\n",
      "Objective value at epoch t=93 is 0.48310721672577134\n",
      "Objective value at epoch t=94 is 0.4831067769653177\n",
      "Objective value at epoch t=95 is 0.4831063806708076\n",
      "Objective value at epoch t=96 is 0.48310602401910935\n",
      "Objective value at epoch t=97 is 0.4831057030125482\n",
      "Objective value at epoch t=98 is 0.4831054142272514\n",
      "Objective value at epoch t=99 is 0.48310515432973206\n"
     ]
    }
   ],
   "source": [
    "lam = 1E-6\n",
    "stepsize = 0.1\n",
    "w, objvals_sgd = sgd(x_train, y_train, lam, stepsize)"
   ]
  },
  {
   "cell_type": "markdown",
   "metadata": {},
   "source": [
    "# 4. Compare GD with SGD\n",
    "\n",
    "Plot objective function values against epochs."
   ]
  },
  {
   "cell_type": "code",
   "execution_count": 32,
   "metadata": {},
   "outputs": [
    {
     "data": {
      "image/png": "[encoded data removed]",
      "text/plain": [
       "<Figure size 432x288 with 1 Axes>"
      ]
     },
     "metadata": {
      "needs_background": "light"
     },
     "output_type": "display_data"
    }
   ],
   "source": [
    "import matplotlib.pyplot as plt\n",
    "%matplotlib inline\n",
    "\n",
    "fig = plt.figure(figsize=(6, 4))\n",
    "\n",
    "epochs_gd = range(len(objvals_gd))\n",
    "epochs_sgd = range(len(objvals_sgd))\n",
    "\n",
    "line0, = plt.plot(epochs_gd, objvals_gd, '--b', linewidth=4)\n",
    "line1, = plt.plot(epochs_sgd, objvals_sgd, '-r', linewidth=2)\n",
    "plt.xlabel('Epochs', fontsize=20)\n",
    "plt.ylabel('Objective Value', fontsize=20)\n",
    "plt.xticks(fontsize=16)\n",
    "plt.yticks(fontsize=16)\n",
    "plt.legend([line0, line1], ['GD', 'SGD'], fontsize=20)\n",
    "plt.tight_layout()\n",
    "plt.show()\n",
    "fig.savefig('compare_gd_sgd.pdf', format='pdf', dpi=1200)"
   ]
  },
  {
   "cell_type": "markdown",
   "metadata": {},
   "source": [
    "# 5. Prediction"
   ]
  },
  {
   "cell_type": "code",
   "execution_count": 33,
   "metadata": {},
   "outputs": [],
   "source": [
    "# Predict class label\n",
    "# Inputs:\n",
    "#     w: d-by-1 matrix\n",
    "#     X: m-by-d matrix\n",
    "# Return:\n",
    "#     f: m-by-1 matrix, the predictions\n",
    "def predict(w, X):\n",
    "    xw = numpy.dot(X, w)\n",
    "    f = numpy.sign(xw)\n",
    "    return f"
   ]
  },
  {
   "cell_type": "code",
   "execution_count": 34,
   "metadata": {},
   "outputs": [
    {
     "name": "stdout",
     "output_type": "stream",
     "text": [
      "Training classification error is 0.234375\n"
     ]
    }
   ],
   "source": [
    "# evaluate training error\n",
    "f_train = predict(w, x_train)\n",
    "diff = numpy.abs(f_train - y_train) / 2\n",
    "error_train = numpy.mean(diff)\n",
    "print('Training classification error is ' + str(error_train))"
   ]
  },
  {
   "cell_type": "code",
   "execution_count": 35,
   "metadata": {},
   "outputs": [
    {
     "name": "stdout",
     "output_type": "stream",
     "text": [
      "Test classification error is 0.1796875\n"
     ]
    }
   ],
   "source": [
    "# evaluate test error\n",
    "f_test = predict(w, x_test)\n",
    "diff = numpy.abs(f_test - y_test) / 2\n",
    "error_test = numpy.mean(diff)\n",
    "print('Test classification error is ' + str(error_test))"
   ]
  },
  {
   "cell_type": "markdown",
   "metadata": {},
   "source": [
    "# 6. Mini-batch SGD (fill the code)\n",
    "\n"
   ]
  },
  {
   "cell_type": "markdown",
   "metadata": {},
   "source": [
    "## 6.1. Compute the objective $Q_I$ and its gradient using a batch of samples\n",
    "\n",
    "Define $Q_I (w) = \\frac{1}{b} \\sum_{i \\in I} \\log \\Big( 1 + \\exp \\big( - y_i x_i^T w \\big) \\Big) + \\frac{\\lambda}{2} \\| w \\|_2^2 $, where $I$ is a set containing $b$ indices randomly drawn from $\\{ 1, \\cdots , n \\}$ without replacement.\n",
    "\n",
    "The stochastic gradient at $w$ is $g_I = \\frac{\\partial Q_I }{ \\partial w} = \\frac{1}{b} \\sum_{i \\in I} \\frac{- y_i x_i }{1 + \\exp ( y_i x_i^T w)} + \\lambda w$."
   ]
  },
  {
   "cell_type": "code",
   "execution_count": 39,
   "metadata": {},
   "outputs": [],
   "source": [
    "# Calculate the objective Q_I and the gradient of Q_I\n",
    "# Inputs:\n",
    "#     w: d-by-1 matrix\n",
    "#     xi: b-by-d matrix\n",
    "#     yi: b-by-1 matrix\n",
    "#     lam: scalar, the regularization parameter\n",
    "#     b: integer, the batch size\n",
    "# Return:\n",
    "#     obj: scalar, the objective Q_i\n",
    "#     g: d-by-1 matrix, gradient of Q_i\n",
    "def mb_stochastic_objective_gradient(w, x, y, lam, b):\n",
    "    # Random sample indices without replacement, size b \n",
    "    batch_indices = np.random.choice(len(x), size=b, replace=False)\n",
    "    x_batch = x[batch_indices]\n",
    "    y_batch = y[batch_indices]\n",
    "    \n",
    "    # Calculate objective function Q_batch\n",
    "    yx_batch = y_batch * x_batch  # n_batch-by-d matrix\n",
    "    yxw_batch = np.dot(yx_batch, w)  # n_batch-by-1 matrix\n",
    "    loss_batch = np.log(1 + np.exp(-yxw_batch))  # n_batch-by-1 matrix\n",
    "    reg = lam / 2 * np.sum(w * w)  # scalar\n",
    "    obj_batch = np.mean(loss_batch) + reg  # scalar\n",
    "\n",
    "    # Calculate stochastic gradient for the batch\n",
    "    g_loss_batch = -yx_batch.T / (1 + np.exp(yxw_batch))  # d-by-n_batch matrix\n",
    "    g = -np.mean(g_loss_batch, axis=1).reshape(-1, 1) + lam * w  # d-by-1 matrix\n",
    "\n",
    "    return obj_batch, g"
   ]
  },
  {
   "cell_type": "markdown",
   "metadata": {},
   "source": [
    "## 6.2. Implement mini-batch SGD\n",
    "\n",
    "Hints:\n",
    "1. In every epoch, randomly permute the $n$ samples (just like SGD).\n",
    "2. Each epoch has $\\frac{n}{b}$ iterations. In every iteration, use $b$ samples, and compute the gradient and objective using the ``mb_stochastic_objective_gradient`` function. In the next iteration, use the next $b$ samples, and so on.\n"
   ]
  },
  {
   "cell_type": "code",
   "execution_count": 67,
   "metadata": {},
   "outputs": [],
   "source": [
    "# Mini-Batch SGD for solving logistic regression\n",
    "# Inputs:\n",
    "#     x: n-by-d matrix\n",
    "#     y: n-by-1 matrix\n",
    "#     lam: scalar, the regularization parameter\n",
    "#     b: integer, the batch size\n",
    "#     stepsize: scalar\n",
    "#     max_epoch: integer, the maximal epochs\n",
    "#     w: d-by-1 matrix, initialization of w\n",
    "# Return:\n",
    "#     w: the solution\n",
    "#     objvals: record of each iteration's objective value\n",
    "def mb_sgd(x, y, lam, b, stepsize, max_epoch=100, w=None):\n",
    "    n, d = x.shape\n",
    "    objvals = np.zeros(max_epoch)  # Store the objective values\n",
    "    if w is None:\n",
    "        w = np.zeros((d, 1))  # Zero initialization\n",
    "\n",
    "    num_batches = n // b  # Calculate the number of batches\n",
    "\n",
    "    for t in range(max_epoch):\n",
    "        rand_indices = np.random.permutation(n)\n",
    "        x_rand = x[rand_indices, :]\n",
    "        y_rand = y[rand_indices, :]\n",
    "\n",
    "        objval = 0  # Accumulate the objective values\n",
    "\n",
    "        for batch_index in range(num_batches):\n",
    "            start = batch_index * b\n",
    "            end = (batch_index + 1) * b\n",
    "            x_batch = x_rand[start:end, :]  \n",
    "            y_batch = y_rand[start:end, :]  \n",
    "\n",
    "            obj_batch = 0\n",
    "            g_batch = np.zeros((d, 1))\n",
    "\n",
    "            for i in range(b):\n",
    "                xi = x_batch[i, :]  # 1-by-d matrix\n",
    "                yi = float(y_batch[i, :])  # Scalar\n",
    "                obj, g = stochastic_objective_gradient(w, xi, yi, lam)\n",
    "                obj_batch += obj\n",
    "                g_batch += g\n",
    "            w -= stepsize * g_batch\n",
    "\n",
    "            objval += obj_batch\n",
    "\n",
    "        stepsize *= 0.9  # Decrease step size\n",
    "        objval /= n  # Calculate the average objective value for the epoch\n",
    "        objvals[t] = objval  # Store the objective value for this epoch\n",
    "        print('Objective value at epoch t=' + str(t) + ' is ' + str(objval))\n",
    "    return w, objvals\n"
   ]
  },
  {
   "cell_type": "markdown",
   "metadata": {},
   "source": [
    "## 6.3. Run MB-SGD"
   ]
  },
  {
   "cell_type": "code",
   "execution_count": 68,
   "metadata": {},
   "outputs": [
    {
     "name": "stdout",
     "output_type": "stream",
     "text": [
      "Objective value at epoch t=0 is 0.5539025758009529\n",
      "Objective value at epoch t=1 is 0.5323643331838661\n",
      "Objective value at epoch t=2 is 0.5320933095071585\n",
      "Objective value at epoch t=3 is 0.523369946143723\n",
      "Objective value at epoch t=4 is 0.5304178612743917\n",
      "Objective value at epoch t=5 is 0.5137191966669729\n",
      "Objective value at epoch t=6 is 0.507477026795103\n",
      "Objective value at epoch t=7 is 0.5153481173121339\n",
      "Objective value at epoch t=8 is 0.5045838917678773\n",
      "Objective value at epoch t=9 is 0.5075738355022131\n",
      "Objective value at epoch t=10 is 0.5005405910769861\n",
      "Objective value at epoch t=11 is 0.5024303346219491\n",
      "Objective value at epoch t=12 is 0.5016361782751699\n",
      "Objective value at epoch t=13 is 0.49906669902191336\n",
      "Objective value at epoch t=14 is 0.49578115412219964\n",
      "Objective value at epoch t=15 is 0.49713818601238435\n",
      "Objective value at epoch t=16 is 0.49313370963560843\n",
      "Objective value at epoch t=17 is 0.493044025058749\n",
      "Objective value at epoch t=18 is 0.49275291538100385\n",
      "Objective value at epoch t=19 is 0.495193769067675\n",
      "Objective value at epoch t=20 is 0.4940617438298001\n",
      "Objective value at epoch t=21 is 0.49270754047480025\n",
      "Objective value at epoch t=22 is 0.4922905910192547\n",
      "Objective value at epoch t=23 is 0.49051609922618267\n",
      "Objective value at epoch t=24 is 0.49023669593019636\n",
      "Objective value at epoch t=25 is 0.4899694971686016\n",
      "Objective value at epoch t=26 is 0.48904561083491566\n",
      "Objective value at epoch t=27 is 0.48860291049086335\n",
      "Objective value at epoch t=28 is 0.4881132647249144\n",
      "Objective value at epoch t=29 is 0.4877939293016693\n",
      "Objective value at epoch t=30 is 0.48806527621075535\n",
      "Objective value at epoch t=31 is 0.487338330133821\n",
      "Objective value at epoch t=32 is 0.4871320997717423\n",
      "Objective value at epoch t=33 is 0.4867543997546749\n",
      "Objective value at epoch t=34 is 0.48665946354743994\n",
      "Objective value at epoch t=35 is 0.4863394125218002\n",
      "Objective value at epoch t=36 is 0.48633166045813425\n",
      "Objective value at epoch t=37 is 0.48600224390502217\n",
      "Objective value at epoch t=38 is 0.4860233647850866\n",
      "Objective value at epoch t=39 is 0.4858111309695251\n",
      "Objective value at epoch t=40 is 0.48572424238028306\n",
      "Objective value at epoch t=41 is 0.4855105412336463\n",
      "Objective value at epoch t=42 is 0.4854718972406083\n",
      "Objective value at epoch t=43 is 0.48537100349335366\n",
      "Objective value at epoch t=44 is 0.48524014088404205\n",
      "Objective value at epoch t=45 is 0.48520936497895084\n",
      "Objective value at epoch t=46 is 0.4851551778209645\n",
      "Objective value at epoch t=47 is 0.485100665682456\n",
      "Objective value at epoch t=48 is 0.48504084654476154\n",
      "Objective value at epoch t=49 is 0.48495070955555725\n",
      "Objective value at epoch t=50 is 0.484932220351192\n",
      "Objective value at epoch t=51 is 0.4849034654242244\n",
      "Objective value at epoch t=52 is 0.4848537765715754\n",
      "Objective value at epoch t=53 is 0.48484980561302765\n",
      "Objective value at epoch t=54 is 0.4848192843879516\n",
      "Objective value at epoch t=55 is 0.48476269725499554\n",
      "Objective value at epoch t=56 is 0.48474798448039047\n",
      "Objective value at epoch t=57 is 0.4847156330225423\n",
      "Objective value at epoch t=58 is 0.48471329215693715\n",
      "Objective value at epoch t=59 is 0.48469569414726\n",
      "Objective value at epoch t=60 is 0.48467022615736094\n",
      "Objective value at epoch t=61 is 0.4846503284819018\n",
      "Objective value at epoch t=62 is 0.48465854551707954\n",
      "Objective value at epoch t=63 is 0.4846350103902248\n",
      "Objective value at epoch t=64 is 0.484623048270886\n",
      "Objective value at epoch t=65 is 0.48461818049184513\n",
      "Objective value at epoch t=66 is 0.4846005953536383\n",
      "Objective value at epoch t=67 is 0.4846009248692991\n",
      "Objective value at epoch t=68 is 0.4845921974431156\n",
      "Objective value at epoch t=69 is 0.4845888500879397\n",
      "Objective value at epoch t=70 is 0.48457930311136577\n",
      "Objective value at epoch t=71 is 0.4845746763315709\n",
      "Objective value at epoch t=72 is 0.48457146033328613\n",
      "Objective value at epoch t=73 is 0.4845678161063067\n",
      "Objective value at epoch t=74 is 0.48456274442031855\n",
      "Objective value at epoch t=75 is 0.48456457293413296\n",
      "Objective value at epoch t=76 is 0.4845587688816121\n",
      "Objective value at epoch t=77 is 0.48455560403356407\n",
      "Objective value at epoch t=78 is 0.48455440915987313\n",
      "Objective value at epoch t=79 is 0.48455225140287317\n",
      "Objective value at epoch t=80 is 0.4845494803793307\n",
      "Objective value at epoch t=81 is 0.48454731546605156\n",
      "Objective value at epoch t=82 is 0.484545750011314\n",
      "Objective value at epoch t=83 is 0.48454597996822485\n",
      "Objective value at epoch t=84 is 0.48454352259607675\n",
      "Objective value at epoch t=85 is 0.4845437667967687\n",
      "Objective value at epoch t=86 is 0.484542359546243\n",
      "Objective value at epoch t=87 is 0.48454156644546115\n",
      "Objective value at epoch t=88 is 0.48454044857025896\n",
      "Objective value at epoch t=89 is 0.4845402728456145\n",
      "Objective value at epoch t=90 is 0.4845390561514997\n",
      "Objective value at epoch t=91 is 0.48453868793967436\n",
      "Objective value at epoch t=92 is 0.48453813594975303\n",
      "Objective value at epoch t=93 is 0.48453734571875484\n",
      "Objective value at epoch t=94 is 0.4845370376730386\n",
      "Objective value at epoch t=95 is 0.4845365027802592\n",
      "Objective value at epoch t=96 is 0.4845363293188073\n",
      "Objective value at epoch t=97 is 0.4845359794646396\n",
      "Objective value at epoch t=98 is 0.48453547481566756\n",
      "Objective value at epoch t=99 is 0.48453530806695716\n"
     ]
    }
   ],
   "source": [
    "# MB-SGD with batch size b=8\n",
    "lam = 1E-6 # do not change\n",
    "b = 8 # do not change\n",
    "stepsize = 0.1 # you must tune this parameter\n",
    "\n",
    "w, objvals_mbsgd8 = mb_sgd(x_train, y_train, lam, b, stepsize)"
   ]
  },
  {
   "cell_type": "code",
   "execution_count": 69,
   "metadata": {},
   "outputs": [
    {
     "name": "stdout",
     "output_type": "stream",
     "text": [
      "Objective value at epoch t=0 is 0.6432030203802178\n",
      "Objective value at epoch t=1 is 0.5687536280379246\n",
      "Objective value at epoch t=2 is 0.5363849106376227\n",
      "Objective value at epoch t=3 is 0.5594556179863165\n",
      "Objective value at epoch t=4 is 0.5487955839042141\n",
      "Objective value at epoch t=5 is 0.5140842529352428\n",
      "Objective value at epoch t=6 is 0.536646764964764\n",
      "Objective value at epoch t=7 is 0.5239786028296841\n",
      "Objective value at epoch t=8 is 0.5136087784167678\n",
      "Objective value at epoch t=9 is 0.5125423661938178\n",
      "Objective value at epoch t=10 is 0.5063466982642586\n",
      "Objective value at epoch t=11 is 0.5118635380879366\n",
      "Objective value at epoch t=12 is 0.5012754520953011\n",
      "Objective value at epoch t=13 is 0.5001388896729891\n",
      "Objective value at epoch t=14 is 0.5012775381328851\n",
      "Objective value at epoch t=15 is 0.49505552584068646\n",
      "Objective value at epoch t=16 is 0.49114222259761375\n",
      "Objective value at epoch t=17 is 0.4956927786122366\n",
      "Objective value at epoch t=18 is 0.49545665278798373\n",
      "Objective value at epoch t=19 is 0.49278802580743336\n",
      "Objective value at epoch t=20 is 0.49178600647731996\n",
      "Objective value at epoch t=21 is 0.4901960681315537\n",
      "Objective value at epoch t=22 is 0.4891133562062933\n",
      "Objective value at epoch t=23 is 0.48902764497286955\n",
      "Objective value at epoch t=24 is 0.49080741292484176\n",
      "Objective value at epoch t=25 is 0.48811337655662157\n",
      "Objective value at epoch t=26 is 0.48880835481880897\n",
      "Objective value at epoch t=27 is 0.4884922523707658\n",
      "Objective value at epoch t=28 is 0.4877069496833708\n",
      "Objective value at epoch t=29 is 0.4882612179827201\n",
      "Objective value at epoch t=30 is 0.4874970915844906\n",
      "Objective value at epoch t=31 is 0.4864370660567644\n",
      "Objective value at epoch t=32 is 0.48689878423375105\n",
      "Objective value at epoch t=33 is 0.48605319673800285\n",
      "Objective value at epoch t=34 is 0.48635846430060115\n",
      "Objective value at epoch t=35 is 0.4859290120200095\n",
      "Objective value at epoch t=36 is 0.48596484528037964\n",
      "Objective value at epoch t=37 is 0.48577369264493\n",
      "Objective value at epoch t=38 is 0.48619534201955156\n",
      "Objective value at epoch t=39 is 0.48565097526380613\n",
      "Objective value at epoch t=40 is 0.4857795093108705\n",
      "Objective value at epoch t=41 is 0.4854231751383221\n",
      "Objective value at epoch t=42 is 0.4851364166665185\n",
      "Objective value at epoch t=43 is 0.48510714117677906\n",
      "Objective value at epoch t=44 is 0.48517102345232727\n",
      "Objective value at epoch t=45 is 0.4850396515481995\n",
      "Objective value at epoch t=46 is 0.4852360685789184\n",
      "Objective value at epoch t=47 is 0.48493746696192225\n",
      "Objective value at epoch t=48 is 0.48500669408752783\n",
      "Objective value at epoch t=49 is 0.48502224115357\n",
      "Objective value at epoch t=50 is 0.484907660800938\n",
      "Objective value at epoch t=51 is 0.48482992513623524\n",
      "Objective value at epoch t=52 is 0.484807540407311\n",
      "Objective value at epoch t=53 is 0.48479253348014995\n",
      "Objective value at epoch t=54 is 0.4847633209697717\n",
      "Objective value at epoch t=55 is 0.4847636248730325\n",
      "Objective value at epoch t=56 is 0.4846822490248961\n",
      "Objective value at epoch t=57 is 0.4846958412632918\n",
      "Objective value at epoch t=58 is 0.48466506189932046\n",
      "Objective value at epoch t=59 is 0.48469404730695176\n",
      "Objective value at epoch t=60 is 0.4846854533172068\n",
      "Objective value at epoch t=61 is 0.4847002453572012\n",
      "Objective value at epoch t=62 is 0.48466108603004976\n",
      "Objective value at epoch t=63 is 0.4846439742021279\n",
      "Objective value at epoch t=64 is 0.4846308073854484\n",
      "Objective value at epoch t=65 is 0.4846027381790908\n",
      "Objective value at epoch t=66 is 0.4846158363569388\n",
      "Objective value at epoch t=67 is 0.4845819981671138\n",
      "Objective value at epoch t=68 is 0.48459660966819806\n",
      "Objective value at epoch t=69 is 0.4845832258875805\n",
      "Objective value at epoch t=70 is 0.4845703312829036\n",
      "Objective value at epoch t=71 is 0.4845648438524888\n",
      "Objective value at epoch t=72 is 0.4845683038775025\n",
      "Objective value at epoch t=73 is 0.48456923748171066\n",
      "Objective value at epoch t=74 is 0.48455336898834844\n",
      "Objective value at epoch t=75 is 0.48455313950374423\n",
      "Objective value at epoch t=76 is 0.4845574623890081\n",
      "Objective value at epoch t=77 is 0.4845536517557204\n",
      "Objective value at epoch t=78 is 0.48454825756407305\n",
      "Objective value at epoch t=79 is 0.48454930059756685\n",
      "Objective value at epoch t=80 is 0.4845494569727794\n",
      "Objective value at epoch t=81 is 0.4845477355836808\n",
      "Objective value at epoch t=82 is 0.48454520768260484\n",
      "Objective value at epoch t=83 is 0.4845451609811069\n",
      "Objective value at epoch t=84 is 0.4845423254532715\n",
      "Objective value at epoch t=85 is 0.48454228215021766\n",
      "Objective value at epoch t=86 is 0.4845427632758502\n",
      "Objective value at epoch t=87 is 0.4845411749668299\n",
      "Objective value at epoch t=88 is 0.484538130933071\n",
      "Objective value at epoch t=89 is 0.48453906078863884\n",
      "Objective value at epoch t=90 is 0.48453701462410104\n",
      "Objective value at epoch t=91 is 0.4845376105024816\n",
      "Objective value at epoch t=92 is 0.48453766997525427\n",
      "Objective value at epoch t=93 is 0.48453660833306245\n",
      "Objective value at epoch t=94 is 0.4845375483795845\n",
      "Objective value at epoch t=95 is 0.484535072243804\n",
      "Objective value at epoch t=96 is 0.48453580820599174\n",
      "Objective value at epoch t=97 is 0.4845360144013437\n",
      "Objective value at epoch t=98 is 0.4845349584584017\n",
      "Objective value at epoch t=99 is 0.4845349705473122\n"
     ]
    }
   ],
   "source": [
    "# MB-SGD with batch size b=64\n",
    "lam = 1E-6 # do not change\n",
    "b = 64 # do not change\n",
    "stepsize = 0.1 # you must tune this parameter\n",
    "w, objvals_mbsgd64 = mb_sgd(x_train, y_train, lam, b, stepsize)"
   ]
  },
  {
   "cell_type": "markdown",
   "metadata": {},
   "source": [
    "# 7. Plot and compare GD, SGD, and MB-SGD"
   ]
  },
  {
   "cell_type": "markdown",
   "metadata": {},
   "source": [
    "You are required to compare the following algorithms:\n",
    "\n",
    "- Gradient descent (GD)\n",
    "\n",
    "- SGD\n",
    "\n",
    "- MB-SGD with b=8\n",
    "\n",
    "- MB-SGD with b=64\n",
    "\n",
    "Follow the code in Section 4 to plot ```objective function value``` against ```epochs```. There should be four curves in the plot; each curve corresponds to one algorithm."
   ]
  },
  {
   "cell_type": "markdown",
   "metadata": {},
   "source": [
    "Hint: Logistic regression with $\\ell_2$-norm regularization is a strongly convex optimization problem. All the algorithms will converge to the same solution. **In the end, the ``objective function value`` of the 4 algorithms will be the same. If not the same, your implementation must be wrong. Do NOT submit wrong code and wrong result!**"
   ]
  },
  {
   "cell_type": "code",
   "execution_count": 70,
   "metadata": {},
   "outputs": [
    {
     "data": {
      "image/png": "[encoded data removed]",
      "text/plain": [
       "<Figure size 864x576 with 1 Axes>"
      ]
     },
     "metadata": {
      "needs_background": "light"
     },
     "output_type": "display_data"
    }
   ],
   "source": [
    "# Plot the objective function value against epochs\n",
    "fig = plt.figure(figsize=(12,8))\n",
    "epochs_gd = range(len(objvals_gd))\n",
    "epochs_sgd = range(len(objvals_sgd))\n",
    "epochs_mbsgd8 = range(len(objvals_mbsgd8))\n",
    "epochs_mbsgd64 = range(len(objvals_mbsgd64))\n",
    "\n",
    "line0, = plt.plot(epochs_gd, objvals_gd, '--b', linewidth=4)\n",
    "line1, = plt.plot(epochs_sgd, objvals_sgd, '-r', linewidth=2)\n",
    "line2, = plt.plot(epochs_mbsgd8, objvals_mbsgd8, '--g', linewidth=4)\n",
    "line3, = plt.plot(epochs_mbsgd64, objvals_mbsgd64, '-y', linewidth=2)\n",
    "plt.xlabel('Epochs', fontsize=20)\n",
    "plt.ylabel('Objective Value', fontsize=20)\n",
    "plt.xticks(fontsize=16)\n",
    "plt.yticks(fontsize=16)\n",
    "plt.legend([line0, line1, line2, line3], ['GD', 'SGD', 'MBSGD8', 'MBSGD64'], fontsize=20)\n",
    "plt.tight_layout()\n",
    "plt.show()\n",
    "fig.savefig('compare_gd_sgd.pdf', format='pdf', dpi=1200)"
   ]
  },
  {
   "cell_type": "code",
   "execution_count": null,
   "metadata": {},
   "outputs": [],
   "source": []
  },
  {
   "cell_type": "markdown",
   "metadata": {},
   "source": []
  }
 ],
 "metadata": {
  "kernelspec": {
   "display_name": "Python 3 (ipykernel)",
   "language": "python",
   "name": "python3"
  },
  "language_info": {
   "codemirror_mode": {
    "name": "ipython",
    "version": 3
   },
   "file_extension": ".py",
   "mimetype": "text/x-python",
   "name": "python",
   "nbconvert_exporter": "python",
   "pygments_lexer": "ipython3",
   "version": "3.9.12"
  }
 },
 "nbformat": 4,
 "nbformat_minor": 2
}
